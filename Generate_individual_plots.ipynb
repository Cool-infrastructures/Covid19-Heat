{
 "cells": [
  {
   "cell_type": "markdown",
   "metadata": {},
   "source": [
    "# Plotting of the Covid-19/Heat survey data"
   ]
  },
  {
   "cell_type": "code",
   "execution_count": 1,
   "metadata": {},
   "outputs": [],
   "source": [
    "# Import packages\n",
    "using LinearAlgebra\n",
    "using CSV\n",
    "using DataFrames\n",
    "using Plots\n",
    "using StatsPlots\n",
    "using StatsBase\n",
    "import DataStructures"
   ]
  },
  {
   "cell_type": "markdown",
   "metadata": {},
   "source": [
    "## Set parameters for the later plotting\n",
    "\n",
    "- You can set the country variable to any of: Cameroon, India, Indonesia and Pakistan\n",
    "- The wave variable can be 1 or 2"
   ]
  },
  {
   "cell_type": "code",
   "execution_count": 2,
   "metadata": {},
   "outputs": [],
   "source": [
    "country = \"Cameroon\";\n",
    "wave = \"2\";"
   ]
  },
  {
   "cell_type": "markdown",
   "metadata": {},
   "source": [
    "## Set path and read data"
   ]
  },
  {
   "cell_type": "code",
   "execution_count": 3,
   "metadata": {},
   "outputs": [
    {
     "data": {
      "text/html": [
       "<table class=\"data-frame\"><thead><tr><th></th><th>Country</th><th>OptIn Date</th><th>Language</th><th>Agree</th><th>AgeGroup</th><th>City</th><th>Gender</th><th>Occupation_raw</th></tr><tr><th></th><th>String</th><th>String</th><th>String</th><th>String</th><th>String</th><th>String</th><th>String</th><th>String</th></tr></thead><tbody><p>3 rows × 83 columns (omitted printing of 75 columns)</p><tr><th>1</th><td>Cameroon</td><td>19/07/2020</td><td>French</td><td>Yes</td><td>18-24</td><td>DOUALA</td><td>FEMALE</td><td>HELP FROM FAMILY AND/OR FRIENDS [FROM INSIDE OF THE COUNTRY]</td></tr><tr><th>2</th><td>Cameroon</td><td>17/07/2020</td><td>French</td><td>Yes</td><td>35+</td><td>DOUALA</td><td>MALE</td><td>PAID LABOR/WAGE</td></tr><tr><th>3</th><td>Cameroon</td><td>15/07/2020</td><td>French</td><td>Yes</td><td>25-34</td><td>DOUALA</td><td>MALE</td><td>EMPLOYED IN PRIVATE COMPANY</td></tr></tbody></table>"
      ],
      "text/latex": [
       "\\begin{tabular}{r|ccccccccc}\n",
       "\t& Country & OptIn Date & Language & Agree & AgeGroup & City & Gender & Occupation\\_raw & \\\\\n",
       "\t\\hline\n",
       "\t& String & String & String & String & String & String & String & String & \\\\\n",
       "\t\\hline\n",
       "\t1 & Cameroon & 19/07/2020 & French & Yes & 18-24 & DOUALA & FEMALE & HELP FROM FAMILY AND/OR FRIENDS [FROM INSIDE OF THE COUNTRY] & $\\dots$ \\\\\n",
       "\t2 & Cameroon & 17/07/2020 & French & Yes & 35+ & DOUALA & MALE & PAID LABOR/WAGE & $\\dots$ \\\\\n",
       "\t3 & Cameroon & 15/07/2020 & French & Yes & 25-34 & DOUALA & MALE & EMPLOYED IN PRIVATE COMPANY & $\\dots$ \\\\\n",
       "\\end{tabular}\n"
      ],
      "text/plain": [
       "3×83 DataFrame. Omitted printing of 76 columns\n",
       "│ Row │ Country  │ OptIn Date │ Language │ Agree  │ AgeGroup │ City   │ Gender │\n",
       "│     │ \u001b[90mString\u001b[39m   │ \u001b[90mString\u001b[39m     │ \u001b[90mString\u001b[39m   │ \u001b[90mString\u001b[39m │ \u001b[90mString\u001b[39m   │ \u001b[90mString\u001b[39m │ \u001b[90mString\u001b[39m │\n",
       "├─────┼──────────┼────────────┼──────────┼────────┼──────────┼────────┼────────┤\n",
       "│ 1   │ Cameroon │ 19/07/2020 │ French   │ Yes    │ 18-24    │ DOUALA │ FEMALE │\n",
       "│ 2   │ Cameroon │ 17/07/2020 │ French   │ Yes    │ 35+      │ DOUALA │ MALE   │\n",
       "│ 3   │ Cameroon │ 15/07/2020 │ French   │ Yes    │ 25-34    │ DOUALA │ MALE   │"
      ]
     },
     "execution_count": 3,
     "metadata": {},
     "output_type": "execute_result"
    }
   ],
   "source": [
    "mkpath(joinpath(\"plots\", country * \"_Wave_\" * wave))\n",
    "filename = \"Cool Infrastructures \" * country * \" Raw Data Wave \" * wave * \".csv\"\n",
    "absolute_path = joinpath(pwd(), \"data\", filename)\n",
    "df = DataFrames.DataFrame(CSV.read(absolute_path, DataFrame))\n",
    "head(df, 3)"
   ]
  },
  {
   "cell_type": "code",
   "execution_count": 4,
   "metadata": {},
   "outputs": [
    {
     "data": {
      "text/plain": [
       "83-element Array{String,1}:\n",
       " \"Country\"\n",
       " \"OptIn Date\"\n",
       " \"Language\"\n",
       " \"Agree\"\n",
       " \"AgeGroup\"\n",
       " \"City\"\n",
       " \"Gender\"\n",
       " \"Occupation_raw\"\n",
       " \"Occupation\"\n",
       " \"OwnHouse\"\n",
       " \"CoolHome\"\n",
       " \"Electricity\"\n",
       " \"HoursDay\"\n",
       " ⋮\n",
       " \"ExperienceBeforeHeat (Irrational behaviour)\"\n",
       " \"ExperienceBeforeHeat (Rash)\"\n",
       " \"ExperienceBeforeHeat (Muscle cramps)\"\n",
       " \"ExperienceBeforeHeat (Clammy skin)\"\n",
       " \"ExperienceBeforeHeat (Confusion)\"\n",
       " \"ExperienceBeforeHeat (Dizziness)\"\n",
       " \"ExperienceBeforeHeat (Vomiting)\"\n",
       " \"ExperienceBeforeHeat (Feeling listless/lack of engagement with social activities/family)\"\n",
       " \"FeelingMore\"\n",
       " \"PhysicalConflict\"\n",
       " \"HeatAffect\"\n",
       " \"Language2\""
      ]
     },
     "execution_count": 4,
     "metadata": {},
     "output_type": "execute_result"
    }
   ],
   "source": [
    "names(df)"
   ]
  },
  {
   "cell_type": "markdown",
   "metadata": {},
   "source": [
    "## Plot histograms for individual questions\n",
    "\n",
    "Change the column name to any of the names. Alternatively you can uncomment (remove '#') the next line and pick any number which corresponds to the order of the columns, e.g. 2 corresponds to \"OptIn Date\"."
   ]
  },
  {
   "cell_type": "code",
   "execution_count": null,
   "metadata": {},
   "outputs": [],
   "source": [
    "columnname = \"Occupation\"\n",
    "columnname = names(df)[(5)]\n",
    "\n",
    "# Plot the histogram\n",
    "datamap = countmap(df[columnname])\n",
    "datamap = DataStructures.SortedDict(datamap)\n",
    "bar((x -> datamap[x]).(keys(datamap)), xticks=(1:length(keys(datamap)), keys(datamap)), legend=false, xrotation=20)\n",
    "xlabel!(columnname)\n",
    "ylabel!(\"Count\")"
   ]
  },
  {
   "cell_type": "markdown",
   "metadata": {},
   "source": [
    "## Plot the heatmap of the different experiences"
   ]
  },
  {
   "cell_type": "code",
   "execution_count": null,
   "metadata": {},
   "outputs": [],
   "source": [
    "ii = 0\n",
    "# Collect all the experience column names\n",
    "experience_names =[]\n",
    "for columnname in names(df)\n",
    "    if occursin(\"Experience_\", columnname)!\n",
    "        ii += 1\n",
    "        push!(experience_names, columnname)\n",
    "        #println(\"$(columnname) is experience number $(ii)\");\n",
    "    end\n",
    "end\n",
    "println(experience_names)\n",
    "\n",
    "# Generate dataframe with only the Experience columns\n",
    "df2 = select(df, experience_names)\n",
    "\n",
    "N = ii\n",
    "B = zeros(Int16, N, N)\n",
    "\n",
    "for i in 1:nrow(df2)\n",
    "    temp = []\n",
    "    jj = 0\n",
    "    for j in names(df2)\n",
    "        jj += 1\n",
    "        if ~ismissing(df2[i,j]) && (occursin(\"Yes\", df2[i,j]) || occursin(\"YES\", df2[i,j]))\n",
    "            push!(temp, jj)\n",
    "        end\n",
    "    end\n",
    "    # Add 1 for each non-zero element\n",
    "    while ~isempty(temp)\n",
    "        B[temp[1], temp[1:end]] .+=1\n",
    "        deleteat!(temp, 1)\n",
    "    end\n",
    "end\n",
    "\n",
    "using LinearAlgebra\n",
    "Bu=Symmetric(UpperTriangular(B))"
   ]
  },
  {
   "cell_type": "code",
   "execution_count": null,
   "metadata": {},
   "outputs": [],
   "source": [
    "# Find the text between the parentheses\n",
    "short_names = []\n",
    "for nm in experience_names\n",
    "    #push!(short_names, split(split(nm, '(')[2], ')')[1])\n",
    "    push!(short_names, split(nm, '_')[2])  \n",
    "end\n",
    "    \n",
    "xlabel = string.(collect(1:N))\n",
    "ylabel = string.(collect(short_names))\n",
    "#ylabel = string.(collect(1:N))\n",
    "heatmap(Bu, xticks=(1:N, xlabel), yticks=(1:N, ylabel),\n",
    "    fill_z=Bu, aspect_ratio=:equal, xrotation=0, dpi=200)#, size=(600,400))\n",
    "\n",
    "fontsize = 5\n",
    "nrows, ncols = size(Bu)\n",
    "ann = [(i,j, text(Bu[i,j], fontsize, :white, :center))\n",
    "            for i in 1:nrows for j in 1:ncols]\n",
    "annotate!(ann, linecolor=:white)"
   ]
  },
  {
   "cell_type": "markdown",
   "metadata": {},
   "source": [
    "## Scatter plots for column combinations\n",
    "\n",
    "Plot the number of occurences of all combinations of answers from the two columns. The size of the markers indicate the number of occurences for each combination.\n",
    "\n",
    "Change the column names to any of the names. Alternatively you can uncomment (remove '#') the other two lines and pick any number which corresponds to the order of the columns, e.g. 2 corresponds to \"OptIn Date\"."
   ]
  },
  {
   "cell_type": "code",
   "execution_count": null,
   "metadata": {},
   "outputs": [],
   "source": [
    "column_x = \"RoofingMaterial\"\n",
    "#column_x = = names(df)[19]\n",
    "column_y = \"WallMaterial\"\n",
    "#column_y = names(df)[20]\n",
    "\n",
    "# Group all combinations from the two columns\n",
    "df2 = DataFrame(x = Any[], y = Any[], groupcount = Int64[])\n",
    "for (key, subdf) in pairs(groupby(df, [column_x, column_y]))\n",
    "    println(\"Number of data points for $(key[column_x]) - $(key[column_y]): $(nrow(subdf))\")\n",
    "    push!(df2, [key[column_x], key[column_y], nrow(subdf)])\n",
    "end\n",
    "\n",
    "# Calculate the maximum number to rescale the marker\n",
    "max_count = maximum(df2[:groupcount]) * 0.05\n",
    "\n",
    "scatter(df2[:x], df2[:y], markersize=df2[:groupcount]/max_count, legend=false, xrotation=35)\n",
    "title!(\"Absolute numbers\")\n",
    "xlabel!(column_x)\n",
    "ylabel!(column_y)"
   ]
  },
  {
   "cell_type": "markdown",
   "metadata": {},
   "source": [
    "## Plot the same as bar chart"
   ]
  },
  {
   "cell_type": "code",
   "execution_count": null,
   "metadata": {},
   "outputs": [],
   "source": [
    "# Plot the data as bar chart\n",
    "groupedbar(df2[:x], df2[:groupcount], group = df2[:y], ylabel = \"Count\", \n",
    "           title=\"$(column_x) grouped with $(column_y)\",\n",
    "           xrotation=20, legend = :outertopright)\n",
    "xlabel!(column_x)\n",
    "ylabel!(\"Count\")"
   ]
  },
  {
   "cell_type": "code",
   "execution_count": null,
   "metadata": {},
   "outputs": [],
   "source": []
  }
 ],
 "metadata": {
  "kernelspec": {
   "display_name": "Julia 1.5.0",
   "language": "julia",
   "name": "julia-1.5"
  },
  "language_info": {
   "file_extension": ".jl",
   "mimetype": "application/julia",
   "name": "julia",
   "version": "1.5.0"
  }
 },
 "nbformat": 4,
 "nbformat_minor": 4
}
