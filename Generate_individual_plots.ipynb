{
 "cells": [
  {
   "cell_type": "markdown",
   "metadata": {},
   "source": [
    "# Plotting of the Covid-19/Heat survey data"
   ]
  },
  {
   "cell_type": "code",
   "execution_count": 1,
   "metadata": {},
   "outputs": [],
   "source": [
    "# Import packages\n",
    "using LinearAlgebra\n",
    "using CSV\n",
    "using DataFrames\n",
    "using Plots\n",
    "using StatsPlots\n",
    "using StatsBase\n",
    "import DataStructures"
   ]
  },
  {
   "cell_type": "markdown",
   "metadata": {},
   "source": [
    "## Set parameters for the later plotting\n",
    "\n",
    "- You can set the country variable to any of: Cameroon, India, Indonesia and Pakistan\n",
    "- The wave variable can be 1 or 2"
   ]
  },
  {
   "cell_type": "code",
   "execution_count": 2,
   "metadata": {},
   "outputs": [],
   "source": [
    "country = \"Cameroon\";\n",
    "wave = \"2\";"
   ]
  },
  {
   "cell_type": "markdown",
   "metadata": {},
   "source": [
    "## Set path and read data"
   ]
  },
  {
   "cell_type": "code",
   "execution_count": 3,
   "metadata": {},
   "outputs": [
    {
     "data": {
      "text/html": [
       "<table class=\"data-frame\"><thead><tr><th></th><th>Country</th><th>OptIn Date</th><th>Language</th><th>Agree</th><th>AgeGroup</th><th>City</th><th>Gender</th><th>Occupation_raw</th></tr><tr><th></th><th>String</th><th>String</th><th>String</th><th>String</th><th>String</th><th>String</th><th>String</th><th>String</th></tr></thead><tbody><p>3 rows × 83 columns (omitted printing of 75 columns)</p><tr><th>1</th><td>Cameroon</td><td>19/07/2020</td><td>French</td><td>Yes</td><td>18-24</td><td>DOUALA</td><td>FEMALE</td><td>HELP FROM FAMILY AND/OR FRIENDS [FROM INSIDE OF THE COUNTRY]</td></tr><tr><th>2</th><td>Cameroon</td><td>17/07/2020</td><td>French</td><td>Yes</td><td>35+</td><td>DOUALA</td><td>MALE</td><td>PAID LABOR/WAGE</td></tr><tr><th>3</th><td>Cameroon</td><td>15/07/2020</td><td>French</td><td>Yes</td><td>25-34</td><td>DOUALA</td><td>MALE</td><td>EMPLOYED IN PRIVATE COMPANY</td></tr></tbody></table>"
      ],
      "text/latex": [
       "\\begin{tabular}{r|ccccccccc}\n",
       "\t& Country & OptIn Date & Language & Agree & AgeGroup & City & Gender & Occupation\\_raw & \\\\\n",
       "\t\\hline\n",
       "\t& String & String & String & String & String & String & String & String & \\\\\n",
       "\t\\hline\n",
       "\t1 & Cameroon & 19/07/2020 & French & Yes & 18-24 & DOUALA & FEMALE & HELP FROM FAMILY AND/OR FRIENDS [FROM INSIDE OF THE COUNTRY] & $\\dots$ \\\\\n",
       "\t2 & Cameroon & 17/07/2020 & French & Yes & 35+ & DOUALA & MALE & PAID LABOR/WAGE & $\\dots$ \\\\\n",
       "\t3 & Cameroon & 15/07/2020 & French & Yes & 25-34 & DOUALA & MALE & EMPLOYED IN PRIVATE COMPANY & $\\dots$ \\\\\n",
       "\\end{tabular}\n"
      ],
      "text/plain": [
       "3×83 DataFrame. Omitted printing of 76 columns\n",
       "│ Row │ Country  │ OptIn Date │ Language │ Agree  │ AgeGroup │ City   │ Gender │\n",
       "│     │ \u001b[90mString\u001b[39m   │ \u001b[90mString\u001b[39m     │ \u001b[90mString\u001b[39m   │ \u001b[90mString\u001b[39m │ \u001b[90mString\u001b[39m   │ \u001b[90mString\u001b[39m │ \u001b[90mString\u001b[39m │\n",
       "├─────┼──────────┼────────────┼──────────┼────────┼──────────┼────────┼────────┤\n",
       "│ 1   │ Cameroon │ 19/07/2020 │ French   │ Yes    │ 18-24    │ DOUALA │ FEMALE │\n",
       "│ 2   │ Cameroon │ 17/07/2020 │ French   │ Yes    │ 35+      │ DOUALA │ MALE   │\n",
       "│ 3   │ Cameroon │ 15/07/2020 │ French   │ Yes    │ 25-34    │ DOUALA │ MALE   │"
      ]
     },
     "execution_count": 3,
     "metadata": {},
     "output_type": "execute_result"
    }
   ],
   "source": [
    "mkpath(joinpath(\"plots\", country * \"_Wave_\" * wave))\n",
    "filename = \"Cool Infrastructures \" * country * \" Raw Data Wave \" * wave * \".csv\"\n",
    "absolute_path = joinpath(pwd(), \"data\", filename)\n",
    "df = DataFrames.DataFrame(CSV.read(absolute_path, DataFrame))\n",
    "first(df, 3)"
   ]
  },
  {
   "cell_type": "code",
   "execution_count": 4,
   "metadata": {},
   "outputs": [
    {
     "data": {
      "text/plain": [
       "83-element Array{String,1}:\n",
       " \"Country\"\n",
       " \"OptIn Date\"\n",
       " \"Language\"\n",
       " \"Agree\"\n",
       " \"AgeGroup\"\n",
       " \"City\"\n",
       " \"Gender\"\n",
       " \"Occupation_raw\"\n",
       " \"Occupation\"\n",
       " \"OwnHouse\"\n",
       " \"CoolHome\"\n",
       " \"Electricity\"\n",
       " \"HoursDay\"\n",
       " ⋮\n",
       " \"ExperienceBeforeHeat (Irrational behaviour)\"\n",
       " \"ExperienceBeforeHeat (Rash)\"\n",
       " \"ExperienceBeforeHeat (Muscle cramps)\"\n",
       " \"ExperienceBeforeHeat (Clammy skin)\"\n",
       " \"ExperienceBeforeHeat (Confusion)\"\n",
       " \"ExperienceBeforeHeat (Dizziness)\"\n",
       " \"ExperienceBeforeHeat (Vomiting)\"\n",
       " \"ExperienceBeforeHeat (Feeling listless/lack of engagement with social activities/family)\"\n",
       " \"FeelingMore\"\n",
       " \"PhysicalConflict\"\n",
       " \"HeatAffect\"\n",
       " \"Language2\""
      ]
     },
     "execution_count": 4,
     "metadata": {},
     "output_type": "execute_result"
    }
   ],
   "source": [
    "names(df)"
   ]
  },
  {
   "cell_type": "markdown",
   "metadata": {},
   "source": [
    "## Plot histograms for individual questions\n",
    "\n",
    "Change the column name to any of the names. Alternatively you can uncomment (remove '#') the next line and pick any number which corresponds to the order of the columns, e.g. 2 corresponds to \"OptIn Date\"."
   ]
  },
  {
   "cell_type": "code",
   "execution_count": 5,
   "metadata": {},
   "outputs": [
    {
     "data": {
      "image/svg+xml": [
       "<?xml version=\"1.0\" encoding=\"utf-8\"?>\n",
       "<svg xmlns=\"http://www.w3.org/2000/svg\" xmlns:xlink=\"http://www.w3.org/1999/xlink\" width=\"600\" height=\"400\" viewBox=\"0 0 2400 1600\">\n",
       "<defs>\n",
       "  <clipPath id=\"clip090\">\n",
       "    <rect x=\"0\" y=\"0\" width=\"2400\" height=\"1600\"/>\n",
       "  </clipPath>\n",
       "</defs>\n",
       "<path clip-path=\"url(#clip090)\" d=\"\n",
       "M0 1600 L2400 1600 L2400 0 L0 0  Z\n",
       "  \" fill=\"#ffffff\" fill-rule=\"evenodd\" fill-opacity=\"1\"/>\n",
       "<defs>\n",
       "  <clipPath id=\"clip091\">\n",
       "    <rect x=\"480\" y=\"0\" width=\"1681\" height=\"1600\"/>\n",
       "  </clipPath>\n",
       "</defs>\n",
       "<path clip-path=\"url(#clip090)\" d=\"\n",
       "M227.042 1373.21 L2352.76 1373.21 L2352.76 47.2441 L227.042 47.2441  Z\n",
       "  \" fill=\"#ffffff\" fill-rule=\"evenodd\" fill-opacity=\"1\"/>\n",
       "<defs>\n",
       "  <clipPath id=\"clip092\">\n",
       "    <rect x=\"227\" y=\"47\" width=\"2127\" height=\"1327\"/>\n",
       "  </clipPath>\n",
       "</defs>\n",
       "<polyline clip-path=\"url(#clip092)\" style=\"stroke:#000000; stroke-width:2; stroke-opacity:0.1; fill:none\" points=\"\n",
       "  614.228,1373.21 614.228,47.2441 \n",
       "  \"/>\n",
       "<polyline clip-path=\"url(#clip092)\" style=\"stroke:#000000; stroke-width:2; stroke-opacity:0.1; fill:none\" points=\"\n",
       "  1289.9,1373.21 1289.9,47.2441 \n",
       "  \"/>\n",
       "<polyline clip-path=\"url(#clip092)\" style=\"stroke:#000000; stroke-width:2; stroke-opacity:0.1; fill:none\" points=\"\n",
       "  1965.57,1373.21 1965.57,47.2441 \n",
       "  \"/>\n",
       "<polyline clip-path=\"url(#clip090)\" style=\"stroke:#000000; stroke-width:4; stroke-opacity:1; fill:none\" points=\"\n",
       "  227.042,1373.21 2352.76,1373.21 \n",
       "  \"/>\n",
       "<polyline clip-path=\"url(#clip090)\" style=\"stroke:#000000; stroke-width:4; stroke-opacity:1; fill:none\" points=\"\n",
       "  614.228,1373.21 614.228,1357.29 \n",
       "  \"/>\n",
       "<polyline clip-path=\"url(#clip090)\" style=\"stroke:#000000; stroke-width:4; stroke-opacity:1; fill:none\" points=\"\n",
       "  1289.9,1373.21 1289.9,1357.29 \n",
       "  \"/>\n",
       "<polyline clip-path=\"url(#clip090)\" style=\"stroke:#000000; stroke-width:4; stroke-opacity:1; fill:none\" points=\"\n",
       "  1965.57,1373.21 1965.57,1357.29 \n",
       "  \"/>\n",
       "<path clip-path=\"url(#clip090)\" d=\"M 0 0 M519.438 1466.85 L526.616 1464.24 L517.598 1439.46 L510.359 1443.87 L508.903 1439.87 L516.098 1435.48 L520.492 1433.88 L530.966 1462.66 L538.144 1460.04 L539.49 1463.74 L520.784 1470.55 L519.438 1466.85 Z\" fill=\"#000000\" fill-rule=\"evenodd\" fill-opacity=\"1\" /><path clip-path=\"url(#clip090)\" d=\"M 0 0 M548.038 1443.17 Q544.905 1444.31 543.71 1446.64 Q542.536 1448.96 543.604 1451.9 Q544.673 1454.83 547.067 1455.86 Q549.482 1456.88 552.614 1455.74 Q555.746 1454.6 556.942 1452.27 Q558.13 1449.91 557.069 1447 Q556 1444.06 553.585 1443.04 Q551.192 1442.02 548.038 1443.17 M542.963 1442.89 Q539.882 1443.23 537.589 1441.87 Q535.319 1440.5 534.305 1437.72 Q532.888 1433.83 534.827 1430.56 Q536.788 1427.28 541.617 1425.52 Q546.468 1423.76 550.054 1425.02 Q553.639 1426.27 555.057 1430.17 Q556.07 1432.95 555.187 1435.46 Q554.325 1437.97 551.773 1439.69 Q555.218 1439.27 557.763 1440.78 Q560.331 1442.29 561.463 1445.4 Q563.181 1450.12 561.206 1453.69 Q559.253 1457.26 553.881 1459.22 Q548.508 1461.17 544.696 1459.7 Q540.907 1458.23 539.189 1453.51 Q538.057 1450.39 539.056 1447.59 Q540.056 1444.79 542.963 1442.89 M538.828 1436.54 Q539.746 1439.06 541.827 1439.91 Q543.929 1440.74 546.779 1439.71 Q549.607 1438.68 550.68 1436.69 Q551.775 1434.69 550.857 1432.16 Q549.938 1429.64 547.814 1428.81 Q545.711 1427.98 542.884 1429 Q540.034 1430.04 538.961 1432.03 Q537.909 1434.02 538.828 1436.54 Z\" fill=\"#000000\" fill-rule=\"evenodd\" fill-opacity=\"1\" /><path clip-path=\"url(#clip090)\" d=\"M 0 0 M561.873 1439.76 L573.597 1435.49 L574.895 1439.06 L563.171 1443.32 L561.873 1439.76 Z\" fill=\"#000000\" fill-rule=\"evenodd\" fill-opacity=\"1\" /><path clip-path=\"url(#clip090)\" d=\"M 0 0 M585.89 1442.67 L601.225 1437.08 L602.571 1440.78 L581.95 1448.29 L580.604 1444.59 Q582.164 1441.09 584.887 1435.17 Q587.625 1429.22 588.275 1427.56 Q589.522 1424.42 589.755 1422.49 Q590.001 1420.53 589.423 1418.94 Q588.481 1416.35 586.06 1415.38 Q583.661 1414.41 580.746 1415.47 Q578.68 1416.22 576.635 1417.78 Q574.613 1419.33 572.533 1421.74 L570.918 1417.3 Q573.184 1415.27 575.291 1413.88 Q577.399 1412.5 579.313 1411.8 Q584.36 1409.97 588.28 1411.4 Q592.2 1412.83 593.736 1417.05 Q594.464 1419.05 594.36 1421.13 Q594.27 1423.18 593.177 1426.34 Q592.863 1427.17 591.049 1431.25 Q589.226 1435.32 585.89 1442.67 Z\" fill=\"#000000\" fill-rule=\"evenodd\" fill-opacity=\"1\" /><path clip-path=\"url(#clip090)\" d=\"M 0 0 M608.981 1406.01 L604.197 1427.38 L615.29 1423.34 L608.981 1406.01 M606.434 1402.6 L611.959 1400.59 L619.663 1421.75 L624.296 1420.07 L625.626 1423.72 L620.993 1425.41 L623.78 1433.06 L619.407 1434.65 L616.621 1427 L601.96 1432.33 L600.416 1428.09 L606.434 1402.6 Z\" fill=\"#000000\" fill-rule=\"evenodd\" fill-opacity=\"1\" /><path clip-path=\"url(#clip090)\" d=\"M 0 0 M1198.44 1465.64 L1213.77 1460.06 L1215.12 1463.76 L1194.5 1471.26 L1193.15 1467.56 Q1194.71 1464.07 1197.43 1458.15 Q1200.17 1452.2 1200.82 1450.53 Q1202.07 1447.4 1202.3 1445.46 Q1202.55 1443.5 1201.97 1441.91 Q1201.03 1439.33 1198.61 1438.36 Q1196.21 1437.38 1193.29 1438.45 Q1191.23 1439.2 1189.18 1440.75 Q1187.16 1442.3 1185.08 1444.71 L1183.46 1440.27 Q1185.73 1438.24 1187.84 1436.86 Q1189.95 1435.48 1191.86 1434.78 Q1196.91 1432.94 1200.83 1434.37 Q1204.75 1435.8 1206.28 1440.02 Q1207.01 1442.02 1206.91 1444.11 Q1206.82 1446.16 1205.72 1449.32 Q1205.41 1450.15 1203.59 1454.23 Q1201.77 1458.29 1198.44 1465.64 Z\" fill=\"#000000\" fill-rule=\"evenodd\" fill-opacity=\"1\" /><path clip-path=\"url(#clip090)\" d=\"M 0 0 M1208.1 1429.53 L1225.35 1423.25 L1226.7 1426.95 L1213.47 1431.76 L1216.37 1439.73 Q1217.21 1439.05 1218.11 1438.55 Q1219.01 1438.03 1219.96 1437.68 Q1225.4 1435.7 1229.66 1437.53 Q1233.92 1439.35 1235.77 1444.44 Q1237.68 1449.68 1235.48 1453.78 Q1233.27 1457.86 1227.33 1460.03 Q1225.29 1460.77 1223.03 1461.2 Q1220.79 1461.62 1218.28 1461.74 L1216.67 1457.33 Q1219.02 1457.68 1221.29 1457.44 Q1223.57 1457.21 1225.9 1456.36 Q1229.66 1454.99 1231.14 1452.21 Q1232.62 1449.43 1231.38 1446.04 Q1230.15 1442.65 1227.23 1441.47 Q1224.31 1440.29 1220.55 1441.66 Q1218.79 1442.3 1217.17 1443.33 Q1215.57 1444.35 1214.04 1445.85 L1208.1 1429.53 Z\" fill=\"#000000\" fill-rule=\"evenodd\" fill-opacity=\"1\" /><path clip-path=\"url(#clip090)\" d=\"M 0 0 M1236.65 1440.08 L1248.38 1435.81 L1249.67 1439.38 L1237.95 1443.65 L1236.65 1440.08 Z\" fill=\"#000000\" fill-rule=\"evenodd\" fill-opacity=\"1\" /><path clip-path=\"url(#clip090)\" d=\"M 0 0 M1265.17 1425.71 Q1268.57 1425.24 1271.11 1426.73 Q1273.67 1428.21 1274.81 1431.34 Q1276.56 1436.15 1274.21 1439.98 Q1271.86 1443.82 1265.77 1446.04 Q1263.72 1446.78 1261.4 1447.16 Q1259.1 1447.55 1256.5 1447.59 L1254.96 1443.34 Q1257.17 1443.74 1259.55 1443.5 Q1261.92 1443.25 1264.29 1442.39 Q1268.42 1440.88 1269.98 1438.47 Q1271.57 1436.04 1270.43 1432.93 Q1269.39 1430.06 1266.78 1429.19 Q1264.18 1428.29 1260.6 1429.59 L1256.81 1430.97 L1255.5 1427.36 L1259.46 1425.92 Q1262.7 1424.74 1263.95 1422.83 Q1265.19 1420.9 1264.3 1418.46 Q1263.39 1415.96 1261.13 1415.28 Q1258.87 1414.58 1255.57 1415.78 Q1253.76 1416.44 1251.84 1417.58 Q1249.92 1418.72 1247.74 1420.45 L1246.31 1416.54 Q1248.56 1414.93 1250.61 1413.79 Q1252.68 1412.64 1254.61 1411.94 Q1259.62 1410.12 1263.36 1411.34 Q1267.1 1412.54 1268.51 1416.41 Q1269.49 1419.11 1268.63 1421.54 Q1267.76 1423.95 1265.17 1425.71 Z\" fill=\"#000000\" fill-rule=\"evenodd\" fill-opacity=\"1\" /><path clip-path=\"url(#clip090)\" d=\"M 0 0 M1284.65 1406.01 L1279.87 1427.38 L1290.96 1423.34 L1284.65 1406.01 M1282.1 1402.6 L1287.63 1400.59 L1295.33 1421.75 L1299.97 1420.07 L1301.3 1423.72 L1296.66 1425.41 L1299.45 1433.06 L1295.08 1434.65 L1292.29 1427 L1277.63 1432.33 L1276.09 1428.09 L1282.1 1402.6 Z\" fill=\"#000000\" fill-rule=\"evenodd\" fill-opacity=\"1\" /><path clip-path=\"url(#clip090)\" d=\"M 0 0 M1909.63 1437.07 Q1913.02 1436.6 1915.56 1438.09 Q1918.12 1439.57 1919.26 1442.7 Q1921.01 1447.51 1918.66 1451.35 Q1916.32 1455.18 1910.22 1457.4 Q1908.18 1458.14 1905.85 1458.52 Q1903.56 1458.91 1900.96 1458.95 L1899.42 1454.7 Q1901.63 1455.11 1904 1454.86 Q1906.38 1454.61 1908.75 1453.75 Q1912.88 1452.24 1914.44 1449.83 Q1916.02 1447.4 1914.89 1444.29 Q1913.85 1441.42 1911.24 1440.55 Q1908.64 1439.65 1905.05 1440.95 L1901.27 1442.33 L1899.95 1438.72 L1903.91 1437.28 Q1907.15 1436.1 1908.4 1434.19 Q1909.65 1432.26 1908.76 1429.82 Q1907.85 1427.32 1905.58 1426.64 Q1903.33 1425.94 1900.02 1427.14 Q1898.22 1427.8 1896.3 1428.94 Q1894.37 1430.08 1892.19 1431.81 L1890.77 1427.9 Q1893.02 1426.29 1895.06 1425.15 Q1897.13 1424 1899.07 1423.3 Q1904.07 1421.48 1907.82 1422.7 Q1911.56 1423.9 1912.97 1427.77 Q1913.95 1430.47 1913.09 1432.9 Q1912.21 1435.32 1909.63 1437.07 Z\" fill=\"#000000\" fill-rule=\"evenodd\" fill-opacity=\"1\" /><path clip-path=\"url(#clip090)\" d=\"M 0 0 M1915.69 1417.92 L1932.93 1411.64 L1934.28 1415.34 L1921.06 1420.15 L1923.95 1428.11 Q1924.79 1427.44 1925.69 1426.94 Q1926.59 1426.41 1927.54 1426.07 Q1932.98 1424.09 1937.24 1425.91 Q1941.5 1427.73 1943.36 1432.82 Q1945.26 1438.07 1943.06 1442.17 Q1940.85 1446.25 1934.91 1448.41 Q1932.87 1449.16 1930.61 1449.58 Q1928.37 1450 1925.86 1450.13 L1924.25 1445.71 Q1926.6 1446.07 1928.87 1445.83 Q1931.15 1445.59 1933.48 1444.75 Q1937.24 1443.38 1938.72 1440.6 Q1940.2 1437.82 1938.96 1434.42 Q1937.73 1431.03 1934.81 1429.85 Q1931.89 1428.67 1928.13 1430.04 Q1926.37 1430.68 1924.75 1431.71 Q1923.15 1432.74 1921.62 1434.23 L1915.69 1417.92 Z\" fill=\"#000000\" fill-rule=\"evenodd\" fill-opacity=\"1\" /><path clip-path=\"url(#clip090)\" d=\"M 0 0 M1957.47 1407.86 L1961.88 1419.97 L1974 1415.56 L1975.34 1419.26 L1963.23 1423.67 L1967.64 1435.79 L1963.98 1437.12 L1959.57 1425 L1947.46 1429.41 L1946.11 1425.71 L1958.23 1421.3 L1953.82 1409.19 L1957.47 1407.86 Z\" fill=\"#000000\" fill-rule=\"evenodd\" fill-opacity=\"1\" /><path clip-path=\"url(#clip090)\" d=\"M 0 0 M1163.83 1501.64 L1155.11 1525.29 L1172.58 1525.29 L1163.83 1501.64 M1160.2 1495.31 L1167.49 1495.31 L1185.6 1542.83 L1178.91 1542.83 L1174.58 1530.64 L1153.16 1530.64 L1148.83 1542.83 L1142.06 1542.83 L1160.2 1495.31 Z\" fill=\"#000000\" fill-rule=\"evenodd\" fill-opacity=\"1\" /><path clip-path=\"url(#clip090)\" d=\"M 0 0 M1215.2 1524.59 Q1215.2 1518.23 1212.56 1514.72 Q1209.95 1511.22 1205.2 1511.22 Q1200.49 1511.22 1197.85 1514.72 Q1195.24 1518.23 1195.24 1524.59 Q1195.24 1530.93 1197.85 1534.43 Q1200.49 1537.93 1205.2 1537.93 Q1209.95 1537.93 1212.56 1534.43 Q1215.2 1530.93 1215.2 1524.59 M1221.05 1538.41 Q1221.05 1547.51 1217.01 1551.93 Q1212.97 1556.39 1204.63 1556.39 Q1201.54 1556.39 1198.81 1555.91 Q1196.07 1555.47 1193.49 1554.51 L1193.49 1548.81 Q1196.07 1550.21 1198.58 1550.88 Q1201.1 1551.55 1203.71 1551.55 Q1209.47 1551.55 1212.33 1548.53 Q1215.2 1545.53 1215.2 1539.46 L1215.2 1536.56 Q1213.38 1539.71 1210.55 1541.27 Q1207.72 1542.83 1203.77 1542.83 Q1197.21 1542.83 1193.2 1537.83 Q1189.19 1532.84 1189.19 1524.59 Q1189.19 1516.32 1193.2 1511.32 Q1197.21 1506.32 1203.77 1506.32 Q1207.72 1506.32 1210.55 1507.88 Q1213.38 1509.44 1215.2 1512.59 L1215.2 1507.18 L1221.05 1507.18 L1221.05 1538.41 Z\" fill=\"#000000\" fill-rule=\"evenodd\" fill-opacity=\"1\" /><path clip-path=\"url(#clip090)\" d=\"M 0 0 M1257.69 1523.54 L1257.69 1526.41 L1230.76 1526.41 Q1231.14 1532.45 1234.39 1535.64 Q1237.67 1538.79 1243.49 1538.79 Q1246.87 1538.79 1250.02 1537.96 Q1253.2 1537.13 1256.32 1535.48 L1256.32 1541.02 Q1253.17 1542.35 1249.86 1543.05 Q1246.55 1543.75 1243.14 1543.75 Q1234.61 1543.75 1229.62 1538.79 Q1224.65 1533.82 1224.65 1525.36 Q1224.65 1516.6 1229.36 1511.48 Q1234.1 1506.32 1242.12 1506.32 Q1249.32 1506.32 1253.49 1510.97 Q1257.69 1515.58 1257.69 1523.54 M1251.83 1521.82 Q1251.77 1517.02 1249.13 1514.15 Q1246.52 1511.29 1242.19 1511.29 Q1237.29 1511.29 1234.33 1514.06 Q1231.4 1516.83 1230.95 1521.85 L1251.83 1521.82 Z\" fill=\"#000000\" fill-rule=\"evenodd\" fill-opacity=\"1\" /><path clip-path=\"url(#clip090)\" d=\"M 0 0 M1296.49 1536.05 L1296.49 1523.29 L1285.98 1523.29 L1285.98 1518 L1302.85 1518 L1302.85 1538.41 Q1299.13 1541.05 1294.64 1542.42 Q1290.15 1543.75 1285.06 1543.75 Q1273.92 1543.75 1267.62 1537.26 Q1261.35 1530.73 1261.35 1519.12 Q1261.35 1507.47 1267.62 1500.97 Q1273.92 1494.45 1285.06 1494.45 Q1289.71 1494.45 1293.88 1495.6 Q1298.08 1496.74 1301.61 1498.97 L1301.61 1505.81 Q1298.05 1502.79 1294.04 1501.26 Q1290.03 1499.73 1285.6 1499.73 Q1276.88 1499.73 1272.49 1504.6 Q1268.13 1509.47 1268.13 1519.12 Q1268.13 1528.73 1272.49 1533.6 Q1276.88 1538.47 1285.6 1538.47 Q1289.01 1538.47 1291.68 1537.9 Q1294.36 1537.29 1296.49 1536.05 Z\" fill=\"#000000\" fill-rule=\"evenodd\" fill-opacity=\"1\" /><path clip-path=\"url(#clip090)\" d=\"M 0 0 M1329.65 1512.66 Q1328.67 1512.08 1327.49 1511.83 Q1326.34 1511.54 1324.94 1511.54 Q1319.98 1511.54 1317.3 1514.79 Q1314.66 1518 1314.66 1524.05 L1314.66 1542.83 L1308.77 1542.83 L1308.77 1507.18 L1314.66 1507.18 L1314.66 1512.72 Q1316.51 1509.47 1319.47 1507.91 Q1322.43 1506.32 1326.66 1506.32 Q1327.27 1506.32 1328 1506.42 Q1328.73 1506.48 1329.62 1506.64 L1329.65 1512.66 Z\" fill=\"#000000\" fill-rule=\"evenodd\" fill-opacity=\"1\" /><path clip-path=\"url(#clip090)\" d=\"M 0 0 M1348.18 1511.29 Q1343.47 1511.29 1340.73 1514.98 Q1337.99 1518.64 1337.99 1525.04 Q1337.99 1531.43 1340.7 1535.13 Q1343.43 1538.79 1348.18 1538.79 Q1352.86 1538.79 1355.59 1535.09 Q1358.33 1531.4 1358.33 1525.04 Q1358.33 1518.7 1355.59 1515.01 Q1352.86 1511.29 1348.18 1511.29 M1348.18 1506.32 Q1355.82 1506.32 1360.18 1511.29 Q1364.54 1516.25 1364.54 1525.04 Q1364.54 1533.79 1360.18 1538.79 Q1355.82 1543.75 1348.18 1543.75 Q1340.51 1543.75 1336.15 1538.79 Q1331.82 1533.79 1331.82 1525.04 Q1331.82 1516.25 1336.15 1511.29 Q1340.51 1506.32 1348.18 1506.32 Z\" fill=\"#000000\" fill-rule=\"evenodd\" fill-opacity=\"1\" /><path clip-path=\"url(#clip090)\" d=\"M 0 0 M1370.08 1528.76 L1370.08 1507.18 L1375.93 1507.18 L1375.93 1528.54 Q1375.93 1533.6 1377.9 1536.15 Q1379.88 1538.66 1383.83 1538.66 Q1388.57 1538.66 1391.3 1535.64 Q1394.07 1532.61 1394.07 1527.39 L1394.07 1507.18 L1399.93 1507.18 L1399.93 1542.83 L1394.07 1542.83 L1394.07 1537.35 Q1391.94 1540.6 1389.11 1542.19 Q1386.31 1543.75 1382.58 1543.75 Q1376.44 1543.75 1373.26 1539.93 Q1370.08 1536.11 1370.08 1528.76 M1384.81 1506.32 L1384.81 1506.32 Z\" fill=\"#000000\" fill-rule=\"evenodd\" fill-opacity=\"1\" /><path clip-path=\"url(#clip090)\" d=\"M 0 0 M1411.74 1537.48 L1411.74 1556.39 L1405.85 1556.39 L1405.85 1507.18 L1411.74 1507.18 L1411.74 1512.59 Q1413.58 1509.41 1416.39 1507.88 Q1419.22 1506.32 1423.13 1506.32 Q1429.63 1506.32 1433.67 1511.48 Q1437.74 1516.63 1437.74 1525.04 Q1437.74 1533.44 1433.67 1538.6 Q1429.63 1543.75 1423.13 1543.75 Q1419.22 1543.75 1416.39 1542.22 Q1413.58 1540.66 1411.74 1537.48 M1431.66 1525.04 Q1431.66 1518.58 1428.99 1514.92 Q1426.35 1511.22 1421.7 1511.22 Q1417.05 1511.22 1414.38 1514.92 Q1411.74 1518.58 1411.74 1525.04 Q1411.74 1531.5 1414.38 1535.19 Q1417.05 1538.85 1421.7 1538.85 Q1426.35 1538.85 1428.99 1535.19 Q1431.66 1531.5 1431.66 1525.04 Z\" fill=\"#000000\" fill-rule=\"evenodd\" fill-opacity=\"1\" /><polyline clip-path=\"url(#clip092)\" style=\"stroke:#000000; stroke-width:2; stroke-opacity:0.1; fill:none\" points=\"\n",
       "  227.042,1335.68 2352.76,1335.68 \n",
       "  \"/>\n",
       "<polyline clip-path=\"url(#clip092)\" style=\"stroke:#000000; stroke-width:2; stroke-opacity:0.1; fill:none\" points=\"\n",
       "  227.042,994.832 2352.76,994.832 \n",
       "  \"/>\n",
       "<polyline clip-path=\"url(#clip092)\" style=\"stroke:#000000; stroke-width:2; stroke-opacity:0.1; fill:none\" points=\"\n",
       "  227.042,653.985 2352.76,653.985 \n",
       "  \"/>\n",
       "<polyline clip-path=\"url(#clip092)\" style=\"stroke:#000000; stroke-width:2; stroke-opacity:0.1; fill:none\" points=\"\n",
       "  227.042,313.138 2352.76,313.138 \n",
       "  \"/>\n",
       "<polyline clip-path=\"url(#clip090)\" style=\"stroke:#000000; stroke-width:4; stroke-opacity:1; fill:none\" points=\"\n",
       "  227.042,1373.21 227.042,47.2441 \n",
       "  \"/>\n",
       "<polyline clip-path=\"url(#clip090)\" style=\"stroke:#000000; stroke-width:4; stroke-opacity:1; fill:none\" points=\"\n",
       "  227.042,1335.68 252.551,1335.68 \n",
       "  \"/>\n",
       "<polyline clip-path=\"url(#clip090)\" style=\"stroke:#000000; stroke-width:4; stroke-opacity:1; fill:none\" points=\"\n",
       "  227.042,994.832 252.551,994.832 \n",
       "  \"/>\n",
       "<polyline clip-path=\"url(#clip090)\" style=\"stroke:#000000; stroke-width:4; stroke-opacity:1; fill:none\" points=\"\n",
       "  227.042,653.985 252.551,653.985 \n",
       "  \"/>\n",
       "<polyline clip-path=\"url(#clip090)\" style=\"stroke:#000000; stroke-width:4; stroke-opacity:1; fill:none\" points=\"\n",
       "  227.042,313.138 252.551,313.138 \n",
       "  \"/>\n",
       "<path clip-path=\"url(#clip090)\" d=\"M 0 0 M179.098 1321.48 Q175.487 1321.48 173.658 1325.04 Q171.852 1328.58 171.852 1335.71 Q171.852 1342.82 173.658 1346.38 Q175.487 1349.93 179.098 1349.93 Q182.732 1349.93 184.538 1346.38 Q186.366 1342.82 186.366 1335.71 Q186.366 1328.58 184.538 1325.04 Q182.732 1321.48 179.098 1321.48 M179.098 1317.77 Q184.908 1317.77 187.963 1322.38 Q191.042 1326.96 191.042 1335.71 Q191.042 1344.44 187.963 1349.05 Q184.908 1353.63 179.098 1353.63 Q173.288 1353.63 170.209 1349.05 Q167.153 1344.44 167.153 1335.71 Q167.153 1326.96 170.209 1322.38 Q173.288 1317.77 179.098 1317.77 Z\" fill=\"#000000\" fill-rule=\"evenodd\" fill-opacity=\"1\" /><path clip-path=\"url(#clip090)\" d=\"M 0 0 M117.107 1008.18 L124.746 1008.18 L124.746 981.811 L116.436 983.477 L116.436 979.218 L124.7 977.552 L129.376 977.552 L129.376 1008.18 L137.015 1008.18 L137.015 1012.11 L117.107 1012.11 L117.107 1008.18 Z\" fill=\"#000000\" fill-rule=\"evenodd\" fill-opacity=\"1\" /><path clip-path=\"url(#clip090)\" d=\"M 0 0 M152.084 980.63 Q148.473 980.63 146.644 984.195 Q144.839 987.737 144.839 994.866 Q144.839 1001.97 146.644 1005.54 Q148.473 1009.08 152.084 1009.08 Q155.718 1009.08 157.524 1005.54 Q159.353 1001.97 159.353 994.866 Q159.353 987.737 157.524 984.195 Q155.718 980.63 152.084 980.63 M152.084 976.927 Q157.894 976.927 160.95 981.533 Q164.028 986.116 164.028 994.866 Q164.028 1003.59 160.95 1008.2 Q157.894 1012.78 152.084 1012.78 Q146.274 1012.78 143.195 1008.2 Q140.14 1003.59 140.14 994.866 Q140.14 986.116 143.195 981.533 Q146.274 976.927 152.084 976.927 Z\" fill=\"#000000\" fill-rule=\"evenodd\" fill-opacity=\"1\" /><path clip-path=\"url(#clip090)\" d=\"M 0 0 M179.098 980.63 Q175.487 980.63 173.658 984.195 Q171.852 987.737 171.852 994.866 Q171.852 1001.97 173.658 1005.54 Q175.487 1009.08 179.098 1009.08 Q182.732 1009.08 184.538 1005.54 Q186.366 1001.97 186.366 994.866 Q186.366 987.737 184.538 984.195 Q182.732 980.63 179.098 980.63 M179.098 976.927 Q184.908 976.927 187.963 981.533 Q191.042 986.116 191.042 994.866 Q191.042 1003.59 187.963 1008.2 Q184.908 1012.78 179.098 1012.78 Q173.288 1012.78 170.209 1008.2 Q167.153 1003.59 167.153 994.866 Q167.153 986.116 170.209 981.533 Q173.288 976.927 179.098 976.927 Z\" fill=\"#000000\" fill-rule=\"evenodd\" fill-opacity=\"1\" /><path clip-path=\"url(#clip090)\" d=\"M 0 0 M120.695 667.33 L137.015 667.33 L137.015 671.265 L115.07 671.265 L115.07 667.33 Q117.732 664.575 122.316 659.946 Q126.922 655.293 128.103 653.95 Q130.348 651.427 131.228 649.691 Q132.13 647.932 132.13 646.242 Q132.13 643.487 130.186 641.751 Q128.265 640.015 125.163 640.015 Q122.964 640.015 120.51 640.779 Q118.08 641.543 115.302 643.094 L115.302 638.372 Q118.126 637.237 120.58 636.659 Q123.033 636.08 125.07 636.08 Q130.441 636.08 133.635 638.765 Q136.829 641.45 136.829 645.941 Q136.829 648.071 136.019 649.992 Q135.232 651.89 133.126 654.483 Q132.547 655.154 129.445 658.372 Q126.343 661.566 120.695 667.33 Z\" fill=\"#000000\" fill-rule=\"evenodd\" fill-opacity=\"1\" /><path clip-path=\"url(#clip090)\" d=\"M 0 0 M152.084 639.784 Q148.473 639.784 146.644 643.349 Q144.839 646.89 144.839 654.02 Q144.839 661.126 146.644 664.691 Q148.473 668.233 152.084 668.233 Q155.718 668.233 157.524 664.691 Q159.353 661.126 159.353 654.02 Q159.353 646.89 157.524 643.349 Q155.718 639.784 152.084 639.784 M152.084 636.08 Q157.894 636.08 160.95 640.687 Q164.028 645.27 164.028 654.02 Q164.028 662.747 160.95 667.353 Q157.894 671.936 152.084 671.936 Q146.274 671.936 143.195 667.353 Q140.14 662.747 140.14 654.02 Q140.14 645.27 143.195 640.687 Q146.274 636.08 152.084 636.08 Z\" fill=\"#000000\" fill-rule=\"evenodd\" fill-opacity=\"1\" /><path clip-path=\"url(#clip090)\" d=\"M 0 0 M179.098 639.784 Q175.487 639.784 173.658 643.349 Q171.852 646.89 171.852 654.02 Q171.852 661.126 173.658 664.691 Q175.487 668.233 179.098 668.233 Q182.732 668.233 184.538 664.691 Q186.366 661.126 186.366 654.02 Q186.366 646.89 184.538 643.349 Q182.732 639.784 179.098 639.784 M179.098 636.08 Q184.908 636.08 187.963 640.687 Q191.042 645.27 191.042 654.02 Q191.042 662.747 187.963 667.353 Q184.908 671.936 179.098 671.936 Q173.288 671.936 170.209 667.353 Q167.153 662.747 167.153 654.02 Q167.153 645.27 170.209 640.687 Q173.288 636.08 179.098 636.08 Z\" fill=\"#000000\" fill-rule=\"evenodd\" fill-opacity=\"1\" /><path clip-path=\"url(#clip090)\" d=\"M 0 0 M129.885 311.784 Q133.242 312.502 135.117 314.77 Q137.015 317.039 137.015 320.372 Q137.015 325.488 133.496 328.289 Q129.978 331.09 123.496 331.09 Q121.32 331.09 119.006 330.65 Q116.714 330.233 114.26 329.377 L114.26 324.863 Q116.205 325.997 118.519 326.576 Q120.834 327.155 123.357 327.155 Q127.755 327.155 130.047 325.419 Q132.362 323.682 132.362 320.372 Q132.362 317.317 130.209 315.604 Q128.08 313.868 124.26 313.868 L120.232 313.868 L120.232 310.025 L124.445 310.025 Q127.894 310.025 129.723 308.659 Q131.552 307.27 131.552 304.678 Q131.552 302.016 129.654 300.604 Q127.779 299.169 124.26 299.169 Q122.339 299.169 120.14 299.585 Q117.941 300.002 115.302 300.882 L115.302 296.715 Q117.964 295.974 120.279 295.604 Q122.617 295.233 124.677 295.233 Q130.001 295.233 133.103 297.664 Q136.204 300.071 136.204 304.192 Q136.204 307.062 134.561 309.053 Q132.917 311.02 129.885 311.784 Z\" fill=\"#000000\" fill-rule=\"evenodd\" fill-opacity=\"1\" /><path clip-path=\"url(#clip090)\" d=\"M 0 0 M152.084 298.937 Q148.473 298.937 146.644 302.502 Q144.839 306.044 144.839 313.173 Q144.839 320.28 146.644 323.844 Q148.473 327.386 152.084 327.386 Q155.718 327.386 157.524 323.844 Q159.353 320.28 159.353 313.173 Q159.353 306.044 157.524 302.502 Q155.718 298.937 152.084 298.937 M152.084 295.233 Q157.894 295.233 160.95 299.84 Q164.028 304.423 164.028 313.173 Q164.028 321.9 160.95 326.506 Q157.894 331.09 152.084 331.09 Q146.274 331.09 143.195 326.506 Q140.14 321.9 140.14 313.173 Q140.14 304.423 143.195 299.84 Q146.274 295.233 152.084 295.233 Z\" fill=\"#000000\" fill-rule=\"evenodd\" fill-opacity=\"1\" /><path clip-path=\"url(#clip090)\" d=\"M 0 0 M179.098 298.937 Q175.487 298.937 173.658 302.502 Q171.852 306.044 171.852 313.173 Q171.852 320.28 173.658 323.844 Q175.487 327.386 179.098 327.386 Q182.732 327.386 184.538 323.844 Q186.366 320.28 186.366 313.173 Q186.366 306.044 184.538 302.502 Q182.732 298.937 179.098 298.937 M179.098 295.233 Q184.908 295.233 187.963 299.84 Q191.042 304.423 191.042 313.173 Q191.042 321.9 187.963 326.506 Q184.908 331.09 179.098 331.09 Q173.288 331.09 170.209 326.506 Q167.153 321.9 167.153 313.173 Q167.153 304.423 170.209 299.84 Q173.288 295.233 179.098 295.233 Z\" fill=\"#000000\" fill-rule=\"evenodd\" fill-opacity=\"1\" /><path clip-path=\"url(#clip090)\" d=\"M 0 0 M44.1444 756.806 L50.9239 756.806 Q47.9002 760.052 46.4043 763.744 Q44.9083 767.405 44.9083 771.542 Q44.9083 779.69 49.9054 784.019 Q54.8707 788.348 64.2919 788.348 Q73.6813 788.348 78.6784 784.019 Q83.6436 779.69 83.6436 771.542 Q83.6436 767.405 82.1477 763.744 Q80.6518 760.052 77.6281 756.806 L84.3439 756.806 Q86.6355 760.18 87.7814 763.967 Q88.9272 767.723 88.9272 771.924 Q88.9272 782.714 82.3387 788.921 Q75.7183 795.127 64.2919 795.127 Q52.8336 795.127 46.2451 788.921 Q39.6248 782.714 39.6248 771.924 Q39.6248 767.659 40.7706 763.904 Q41.8846 760.116 44.1444 756.806 Z\" fill=\"#000000\" fill-rule=\"evenodd\" fill-opacity=\"1\" /><path clip-path=\"url(#clip090)\" d=\"M 0 0 M56.4621 736.849 Q56.4621 741.56 60.1542 744.297 Q63.8145 747.034 70.212 747.034 Q76.6095 747.034 80.3017 744.329 Q83.9619 741.592 83.9619 736.849 Q83.9619 732.17 80.2698 729.433 Q76.5777 726.696 70.212 726.696 Q63.8781 726.696 60.186 729.433 Q56.4621 732.17 56.4621 736.849 M51.4968 736.849 Q51.4968 729.21 56.4621 724.85 Q61.4273 720.489 70.212 720.489 Q78.9649 720.489 83.9619 724.85 Q88.9272 729.21 88.9272 736.849 Q88.9272 744.52 83.9619 748.88 Q78.9649 753.209 70.212 753.209 Q61.4273 753.209 56.4621 748.88 Q51.4968 744.52 51.4968 736.849 Z\" fill=\"#000000\" fill-rule=\"evenodd\" fill-opacity=\"1\" /><path clip-path=\"url(#clip090)\" d=\"M 0 0 M73.9359 714.951 L52.3562 714.951 L52.3562 709.095 L73.7131 709.095 Q78.7739 709.095 81.3202 707.121 Q83.8346 705.148 83.8346 701.201 Q83.8346 696.459 80.8109 693.722 Q77.7872 690.953 72.5673 690.953 L52.3562 690.953 L52.3562 685.096 L88.0042 685.096 L88.0042 690.953 L82.5296 690.953 Q85.7762 693.085 87.3676 695.918 Q88.9272 698.719 88.9272 702.443 Q88.9272 708.586 85.1078 711.768 Q81.2883 714.951 73.9359 714.951 M51.4968 700.215 L51.4968 700.215 Z\" fill=\"#000000\" fill-rule=\"evenodd\" fill-opacity=\"1\" /><path clip-path=\"url(#clip090)\" d=\"M 0 0 M66.4881 649.321 L88.0042 649.321 L88.0042 655.177 L66.679 655.177 Q61.6183 655.177 59.1038 657.151 Q56.5894 659.124 56.5894 663.071 Q56.5894 667.813 59.6131 670.55 Q62.6368 673.288 67.8567 673.288 L88.0042 673.288 L88.0042 679.176 L52.3562 679.176 L52.3562 673.288 L57.8944 673.288 Q54.6797 671.187 53.0883 668.354 Q51.4968 665.49 51.4968 661.766 Q51.4968 655.623 55.3163 652.472 Q59.1038 649.321 66.4881 649.321 Z\" fill=\"#000000\" fill-rule=\"evenodd\" fill-opacity=\"1\" /><path clip-path=\"url(#clip090)\" d=\"M 0 0 M42.2347 637.385 L52.3562 637.385 L52.3562 625.322 L56.9077 625.322 L56.9077 637.385 L76.2594 637.385 Q80.6199 637.385 81.8613 636.207 Q83.1026 634.998 83.1026 631.338 L83.1026 625.322 L88.0042 625.322 L88.0042 631.338 Q88.0042 638.117 85.4897 640.695 Q82.9434 643.273 76.2594 643.273 L56.9077 643.273 L56.9077 647.57 L52.3562 647.57 L52.3562 643.273 L42.2347 643.273 L42.2347 637.385 Z\" fill=\"#000000\" fill-rule=\"evenodd\" fill-opacity=\"1\" /><path clip-path=\"url(#clip092)\" d=\"\n",
       "M343.96 1274.33 L343.96 1335.68 L884.497 1335.68 L884.497 1274.33 L343.96 1274.33 L343.96 1274.33  Z\n",
       "  \" fill=\"#009af9\" fill-rule=\"evenodd\" fill-opacity=\"1\"/>\n",
       "<polyline clip-path=\"url(#clip092)\" style=\"stroke:#000000; stroke-width:4; stroke-opacity:1; fill:none\" points=\"\n",
       "  343.96,1274.33 343.96,1335.68 884.497,1335.68 884.497,1274.33 343.96,1274.33 \n",
       "  \"/>\n",
       "<path clip-path=\"url(#clip092)\" d=\"\n",
       "M1019.63 773.281 L1019.63 1335.68 L1560.17 1335.68 L1560.17 773.281 L1019.63 773.281 L1019.63 773.281  Z\n",
       "  \" fill=\"#009af9\" fill-rule=\"evenodd\" fill-opacity=\"1\"/>\n",
       "<polyline clip-path=\"url(#clip092)\" style=\"stroke:#000000; stroke-width:4; stroke-opacity:1; fill:none\" points=\"\n",
       "  1019.63,773.281 1019.63,1335.68 1560.17,1335.68 1560.17,773.281 1019.63,773.281 \n",
       "  \"/>\n",
       "<path clip-path=\"url(#clip092)\" d=\"\n",
       "M1695.3 84.7713 L1695.3 1335.68 L2235.84 1335.68 L2235.84 84.7713 L1695.3 84.7713 L1695.3 84.7713  Z\n",
       "  \" fill=\"#009af9\" fill-rule=\"evenodd\" fill-opacity=\"1\"/>\n",
       "<polyline clip-path=\"url(#clip092)\" style=\"stroke:#000000; stroke-width:4; stroke-opacity:1; fill:none\" points=\"\n",
       "  1695.3,84.7713 1695.3,1335.68 2235.84,1335.68 2235.84,84.7713 1695.3,84.7713 \n",
       "  \"/>\n",
       "</svg>\n"
      ]
     },
     "execution_count": 5,
     "metadata": {},
     "output_type": "execute_result"
    }
   ],
   "source": [
    "columnname = \"Occupation\"\n",
    "columnname = names(df)[(5)]\n",
    "\n",
    "# Plot the histogram\n",
    "datamap = countmap(df[!,columnname])\n",
    "datamap = DataStructures.SortedDict(datamap)\n",
    "bar((x -> datamap[x]).(keys(datamap)), xticks=(1:length(keys(datamap)), keys(datamap)), legend=false, xrotation=20)\n",
    "xlabel!(columnname)\n",
    "ylabel!(\"Count\")"
   ]
  },
  {
   "cell_type": "markdown",
   "metadata": {},
   "source": [
    "## Plot the heatmap of the different experiences"
   ]
  },
  {
   "cell_type": "code",
   "execution_count": null,
   "metadata": {},
   "outputs": [
    {
     "name": "stdout",
     "output_type": "stream",
     "text": [
      "Any[\"Experience_Blurred vision\", \"Experience_Clammy skin\", \"Experience_Concentration loss\", \"Experience_Confusion\", \"Experience_Convulsions\", \"Experience_Dizziness\", \"Experience_Fainting [brief loss of consciousness]\", \"Experience_Fatigue\", \"Experience_Feeling hot\", \"Experience_Feeling listless/lack of engagement with social activities/family\", \"Experience_Feeling sweaty\", \"Experience_Feeling thirsty\", \"Experience_Headache\", \"Experience_Irrational behaviour\", \"Experience_Loss of consciousness [extensive]\", \"Experience_Muscle c"
     ]
    }
   ],
   "source": [
    "ii = 0\n",
    "# Collect all the experience column names\n",
    "experience_names =[]\n",
    "for columnname in names(df)\n",
    "    if occursin(\"Experience_\", columnname)!\n",
    "        ii += 1\n",
    "        push!(experience_names, columnname)\n",
    "        #println(\"$(columnname) is experience number $(ii)\");\n",
    "    end\n",
    "end\n",
    "println(experience_names)\n",
    "\n",
    "# Generate dataframe with only the Experience columns\n",
    "df2 = select(df, experience_names)\n",
    "\n",
    "N = ii\n",
    "B = zeros(Int16, N, N)\n",
    "\n",
    "for i in 1:nrow(df2)\n",
    "    temp = []\n",
    "    jj = 0\n",
    "    for j in names(df2)\n",
    "        jj += 1\n",
    "        if ~ismissing(df2[i,j]) && (occursin(\"Yes\", df2[i,j]) || occursin(\"YES\", df2[i,j]))\n",
    "            push!(temp, jj)\n",
    "        end\n",
    "    end\n",
    "    # Add 1 for each non-zero element\n",
    "    while ~isempty(temp)\n",
    "        B[temp[1], temp[1:end]] .+=1\n",
    "        deleteat!(temp, 1)\n",
    "    end\n",
    "end\n",
    "\n",
    "using LinearAlgebra\n",
    "Bu=Symmetric(UpperTriangular(B))"
   ]
  },
  {
   "cell_type": "code",
   "execution_count": null,
   "metadata": {},
   "outputs": [],
   "source": [
    "# Find the text between the parentheses\n",
    "short_names = []\n",
    "for nm in experience_names\n",
    "    #push!(short_names, split(split(nm, '(')[2], ')')[1])\n",
    "    push!(short_names, split(nm, '_')[2])  \n",
    "end\n",
    "    \n",
    "xlabel = string.(collect(1:N))\n",
    "ylabel = string.(collect(short_names))\n",
    "#ylabel = string.(collect(1:N))\n",
    "heatmap(Bu, xticks=(1:N, xlabel), yticks=(1:N, ylabel),\n",
    "    fill_z=Bu, aspect_ratio=:equal, xrotation=0, dpi=200)#, size=(600,400))\n",
    "\n",
    "fontsize = 5\n",
    "nrows, ncols = size(Bu)\n",
    "ann = [(i,j, text(Bu[i,j], fontsize, :white, :center))\n",
    "            for i in 1:nrows for j in 1:ncols]\n",
    "annotate!(ann, linecolor=:white)"
   ]
  },
  {
   "cell_type": "markdown",
   "metadata": {},
   "source": [
    "## Scatter plots for column combinations\n",
    "\n",
    "Plot the number of occurences of all combinations of answers from the two columns. The size of the markers indicate the number of occurences for each combination.\n",
    "\n",
    "Change the column names to any of the names. Alternatively you can uncomment (remove '#') the other two lines and pick any number which corresponds to the order of the columns, e.g. 2 corresponds to \"OptIn Date\"."
   ]
  },
  {
   "cell_type": "code",
   "execution_count": null,
   "metadata": {},
   "outputs": [],
   "source": [
    "column_x = \"RoofingMaterial\"\n",
    "#column_x = = names(df)[19]\n",
    "column_y = \"WallMaterial\"\n",
    "#column_y = names(df)[20]\n",
    "\n",
    "# Group all combinations from the two columns\n",
    "df2 = DataFrame(x = Any[], y = Any[], groupcount = Int64[])\n",
    "for (key, subdf) in pairs(groupby(df, [column_x, column_y]))\n",
    "    println(\"Number of data points for $(key[column_x]) - $(key[column_y]): $(nrow(subdf))\")\n",
    "    push!(df2, [key[column_x], key[column_y], nrow(subdf)])\n",
    "end\n",
    "\n",
    "# Calculate the maximum number to rescale the marker\n",
    "max_count = maximum(df2[!,:groupcount]) * 0.05\n",
    "\n",
    "scatter(df2[!,:x], df2[!,:y], markersize=df2[!,:groupcount]/max_count, legend=false, xrotation=35)\n",
    "title!(\"Absolute numbers\")\n",
    "xlabel!(column_x)\n",
    "ylabel!(column_y)"
   ]
  },
  {
   "cell_type": "markdown",
   "metadata": {},
   "source": [
    "## Plot the same as bar chart"
   ]
  },
  {
   "cell_type": "code",
   "execution_count": null,
   "metadata": {},
   "outputs": [],
   "source": [
    "# Plot the data as bar chart\n",
    "groupedbar(df2[!,:x], df2[!,:groupcount], group = df2[!,:y], ylabel = \"Count\", \n",
    "           title=\"$(column_x) grouped with $(column_y)\",\n",
    "           xrotation=20, legend = :outertopright)\n",
    "xlabel!(column_x)\n",
    "ylabel!(\"Count\")"
   ]
  },
  {
   "cell_type": "code",
   "execution_count": null,
   "metadata": {},
   "outputs": [],
   "source": []
  }
 ],
 "metadata": {
  "kernelspec": {
   "display_name": "Julia 1.5.0",
   "language": "julia",
   "name": "julia-1.5"
  },
  "language_info": {
   "file_extension": ".jl",
   "mimetype": "application/julia",
   "name": "julia",
   "version": "1.5.0"
  }
 },
 "nbformat": 4,
 "nbformat_minor": 4
}
